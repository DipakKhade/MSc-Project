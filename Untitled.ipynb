{
 "cells": [
  {
   "cell_type": "code",
   "execution_count": 3,
   "id": "b9536542",
   "metadata": {},
   "outputs": [],
   "source": [
    "import os\n",
    "import json\n",
    "import numpy as np\n",
    "import tensorflow as tf\n",
    "from tensorflow.keras import layers, models\n",
    "from tensorflow.keras.preprocessing.image import ImageDataGenerator"
   ]
  },
  {
   "cell_type": "code",
   "execution_count": 7,
   "id": "20ebf524",
   "metadata": {},
   "outputs": [],
   "source": [
    "# Step 1: Load the JSON metadata\n",
    "metadata_file = 'metadata.json'  # Adjust the path to your metadata file\n",
    "image_directory = r'D:\\MSC_Project\\CT\\Hemorrhage'  # Adjust the path to your image directory"
   ]
  },
  {
   "cell_type": "code",
   "execution_count": 30,
   "id": "848e0fc2",
   "metadata": {},
   "outputs": [],
   "source": [
    "train_dir = r'D:\\MSC_Project\\CT\\Hemorrhage'  \n",
    "validation_dir = r'D:\\MSC_Project\\CT\\No Hemorrhage'"
   ]
  },
  {
   "cell_type": "code",
   "execution_count": 12,
   "id": "ae8ffb59",
   "metadata": {},
   "outputs": [],
   "source": [
    "metadata_file = r'C:\\Users\\Dipak\\Desktop\\Spending Time With Code\\metadata.json'  # Adjust the path to your metadata file\n",
    "\n",
    "with open(metadata_file, 'r') as json_file:\n",
    "    metadata = json.load(json_file)\n"
   ]
  },
  {
   "cell_type": "code",
   "execution_count": 14,
   "id": "34ed6fde",
   "metadata": {},
   "outputs": [],
   "source": [
    "# Create a dictionary to associate image file paths with labels\n",
    "image_data = {\n",
    "    r'D:\\MSC_Project\\CT\\stage_2_test\\1.png':'Hemorrhage',\n",
    "    r'D:\\MSC_Project\\CT\\stage_2_test\\2.png':'Hemorrhage',\n",
    "    r'D:\\MSC_Project\\CT\\stage_2_test\\3.png':'Hemorrhage',\n",
    "    r'D:\\MSC_Project\\CT\\stage_2_test\\4.png':'No Hemorrhage',\n",
    "    r'D:\\MSC_Project\\CT\\stage_2_test\\5.png':'Hemorrhage',\n",
    "    r'D:\\MSC_Project\\CT\\stage_2_test\\6.png':'No Hemorrhage',\n",
    "    r'D:\\MSC_Project\\CT\\stage_2_test\\7.png':'No Hemorrhage',\n",
    "    r'D:\\MSC_Project\\CT\\stage_2_test\\8.png':'No Hemorrhage',\n",
    "    r'D:\\MSC_Project\\CT\\stage_2_test\\9.png':'Hemorrhage',\n",
    "    r'D:\\MSC_Project\\CT\\stage_2_test\\10.png':'No Hemorrhage',\n",
    "    r'D:\\MSC_Project\\CT\\stage_2_test\\11.png':'No Hemorrhage',\n",
    "    r'D:\\MSC_Project\\CT\\stage_2_test\\12.png':'No Hemorrhage',\n",
    "    r'D:\\MSC_Project\\CT\\stage_2_test\\13.png':'Hemorrhage',\n",
    "}"
   ]
  },
  {
   "cell_type": "code",
   "execution_count": 17,
   "id": "3453b2c9",
   "metadata": {},
   "outputs": [],
   "source": [
    "for entry in metadata['images']:\n",
    "    image_id = entry['image_id']\n",
    "    image_file_path = os.path.join(image_directory, f'{image_id}.png')  # Adjust the filename pattern as needed\n",
    "    # In this example, we're associating 'Hemorrhage' with label 1 and 'No Hemorrhage' with label 0\n",
    "    label = 1 if entry['diagnosis'] == 'Hemorrhage' else 0\n",
    "    image_data[image_file_path] = label"
   ]
  },
  {
   "cell_type": "code",
   "execution_count": 19,
   "id": "3ed07e13",
   "metadata": {},
   "outputs": [],
   "source": [
    "# Step 2: Define data directories\n",
    "train_dir = image_directory  # Directory with image files"
   ]
  },
  {
   "cell_type": "code",
   "execution_count": 31,
   "id": "c6897073",
   "metadata": {},
   "outputs": [],
   "source": [
    "# Step 3: Define data generators with augmentation (adjust parameters as needed)\n",
    "train_datagen = ImageDataGenerator(\n",
    "    rescale=1./255,\n",
    "    rotation_range=10,            # Reduced rotation range\n",
    "    width_shift_range=0.1,        # Reduced width shift range\n",
    "    height_shift_range=0.1,       # Reduced height shift range\n",
    "    shear_range=0.1,              # Reduced shear range\n",
    "    zoom_range=0.1,               # Reduced zoom range\n",
    "    horizontal_flip=True,\n",
    "    fill_mode='nearest'\n",
    ")\n",
    "validation_datagen = ImageDataGenerator(rescale=1./255)"
   ]
  },
  {
   "cell_type": "code",
   "execution_count": 34,
   "id": "3cc384dd",
   "metadata": {},
   "outputs": [
    {
     "name": "stdout",
     "output_type": "stream",
     "text": [
      "Found 0 images belonging to 0 classes.\n"
     ]
    }
   ],
   "source": [
    "# Load and preprocess images using a generator\n",
    "train_generator = train_datagen.flow_from_directory(\n",
    "    train_dir,\n",
    "    target_size=(150, 150),\n",
    "    batch_size=12,\n",
    "    class_mode='binary'\n",
    ")"
   ]
  },
  {
   "cell_type": "code",
   "execution_count": 32,
   "id": "7e39dce0",
   "metadata": {},
   "outputs": [
    {
     "name": "stdout",
     "output_type": "stream",
     "text": [
      "Found 0 images belonging to 0 classes.\n"
     ]
    }
   ],
   "source": [
    "validation_generator = validation_datagen.flow_from_directory(\n",
    "    validation_dir,\n",
    "    target_size=(150, 150),\n",
    "    batch_size=32,\n",
    "    class_mode='binary'\n",
    ")"
   ]
  },
  {
   "cell_type": "code",
   "execution_count": 26,
   "id": "c0549f82",
   "metadata": {},
   "outputs": [],
   "source": [
    "# Step 4: Create a simple CNN model\n",
    "model = models.Sequential([\n",
    "    layers.Conv2D(32, (3, 3), activation='relu', input_shape=(150, 150, 3)),\n",
    "    layers.MaxPooling2D(2, 2),\n",
    "    layers.Conv2D(64, (3, 3), activation='relu'),\n",
    "    layers.MaxPooling2D(2, 2),\n",
    "    layers.Conv2D(128, (3, 3), activation='relu'),\n",
    "    layers.MaxPooling2D(2, 2),\n",
    "    layers.Flatten(),\n",
    "    layers.Dense(512, activation='relu'),\n",
    "    layers.Dense(1, activation='sigmoid')\n",
    "])"
   ]
  },
  {
   "cell_type": "code",
   "execution_count": 28,
   "id": "1c78a2d9",
   "metadata": {},
   "outputs": [],
   "source": [
    "# Step 5: Compile the model\n",
    "model.compile(\n",
    "    loss='binary_crossentropy',\n",
    "    optimizer='adam',\n",
    "    metrics=['accuracy']\n",
    ")"
   ]
  },
  {
   "cell_type": "code",
   "execution_count": 29,
   "id": "af230e7c",
   "metadata": {},
   "outputs": [
    {
     "ename": "ValueError",
     "evalue": "Asked to retrieve element 0, but the Sequence has length 0",
     "output_type": "error",
     "traceback": [
      "\u001b[1;31m---------------------------------------------------------------------------\u001b[0m",
      "\u001b[1;31mValueError\u001b[0m                                Traceback (most recent call last)",
      "Cell \u001b[1;32mIn[29], line 2\u001b[0m\n\u001b[0;32m      1\u001b[0m \u001b[38;5;66;03m# Step 6: Train the model\u001b[39;00m\n\u001b[1;32m----> 2\u001b[0m history \u001b[38;5;241m=\u001b[39m \u001b[43mmodel\u001b[49m\u001b[38;5;241;43m.\u001b[39;49m\u001b[43mfit\u001b[49m\u001b[43m(\u001b[49m\n\u001b[0;32m      3\u001b[0m \u001b[43m    \u001b[49m\u001b[43mtrain_generator\u001b[49m\u001b[43m,\u001b[49m\n\u001b[0;32m      4\u001b[0m \u001b[43m    \u001b[49m\u001b[43mepochs\u001b[49m\u001b[38;5;241;43m=\u001b[39;49m\u001b[38;5;241;43m10\u001b[39;49m\u001b[43m,\u001b[49m\u001b[43m  \u001b[49m\u001b[38;5;66;43;03m# Adjust the number of epochs as needed\u001b[39;49;00m\n\u001b[0;32m      5\u001b[0m \u001b[43m)\u001b[49m\n",
      "File \u001b[1;32mC:\\Python310\\lib\\site-packages\\keras\\src\\utils\\traceback_utils.py:70\u001b[0m, in \u001b[0;36mfilter_traceback.<locals>.error_handler\u001b[1;34m(*args, **kwargs)\u001b[0m\n\u001b[0;32m     67\u001b[0m     filtered_tb \u001b[38;5;241m=\u001b[39m _process_traceback_frames(e\u001b[38;5;241m.\u001b[39m__traceback__)\n\u001b[0;32m     68\u001b[0m     \u001b[38;5;66;03m# To get the full stack trace, call:\u001b[39;00m\n\u001b[0;32m     69\u001b[0m     \u001b[38;5;66;03m# `tf.debugging.disable_traceback_filtering()`\u001b[39;00m\n\u001b[1;32m---> 70\u001b[0m     \u001b[38;5;28;01mraise\u001b[39;00m e\u001b[38;5;241m.\u001b[39mwith_traceback(filtered_tb) \u001b[38;5;28;01mfrom\u001b[39;00m \u001b[38;5;28mNone\u001b[39m\n\u001b[0;32m     71\u001b[0m \u001b[38;5;28;01mfinally\u001b[39;00m:\n\u001b[0;32m     72\u001b[0m     \u001b[38;5;28;01mdel\u001b[39;00m filtered_tb\n",
      "File \u001b[1;32mC:\\Python310\\lib\\site-packages\\keras\\src\\preprocessing\\image.py:103\u001b[0m, in \u001b[0;36mIterator.__getitem__\u001b[1;34m(self, idx)\u001b[0m\n\u001b[0;32m    101\u001b[0m \u001b[38;5;28;01mdef\u001b[39;00m \u001b[38;5;21m__getitem__\u001b[39m(\u001b[38;5;28mself\u001b[39m, idx):\n\u001b[0;32m    102\u001b[0m     \u001b[38;5;28;01mif\u001b[39;00m idx \u001b[38;5;241m>\u001b[39m\u001b[38;5;241m=\u001b[39m \u001b[38;5;28mlen\u001b[39m(\u001b[38;5;28mself\u001b[39m):\n\u001b[1;32m--> 103\u001b[0m         \u001b[38;5;28;01mraise\u001b[39;00m \u001b[38;5;167;01mValueError\u001b[39;00m(\n\u001b[0;32m    104\u001b[0m             \u001b[38;5;124m\"\u001b[39m\u001b[38;5;124mAsked to retrieve element \u001b[39m\u001b[38;5;132;01m{idx}\u001b[39;00m\u001b[38;5;124m, \u001b[39m\u001b[38;5;124m\"\u001b[39m\n\u001b[0;32m    105\u001b[0m             \u001b[38;5;124m\"\u001b[39m\u001b[38;5;124mbut the Sequence \u001b[39m\u001b[38;5;124m\"\u001b[39m\n\u001b[0;32m    106\u001b[0m             \u001b[38;5;124m\"\u001b[39m\u001b[38;5;124mhas length \u001b[39m\u001b[38;5;132;01m{length}\u001b[39;00m\u001b[38;5;124m\"\u001b[39m\u001b[38;5;241m.\u001b[39mformat(idx\u001b[38;5;241m=\u001b[39midx, length\u001b[38;5;241m=\u001b[39m\u001b[38;5;28mlen\u001b[39m(\u001b[38;5;28mself\u001b[39m))\n\u001b[0;32m    107\u001b[0m         )\n\u001b[0;32m    108\u001b[0m     \u001b[38;5;28;01mif\u001b[39;00m \u001b[38;5;28mself\u001b[39m\u001b[38;5;241m.\u001b[39mseed \u001b[38;5;129;01mis\u001b[39;00m \u001b[38;5;129;01mnot\u001b[39;00m \u001b[38;5;28;01mNone\u001b[39;00m:\n\u001b[0;32m    109\u001b[0m         np\u001b[38;5;241m.\u001b[39mrandom\u001b[38;5;241m.\u001b[39mseed(\u001b[38;5;28mself\u001b[39m\u001b[38;5;241m.\u001b[39mseed \u001b[38;5;241m+\u001b[39m \u001b[38;5;28mself\u001b[39m\u001b[38;5;241m.\u001b[39mtotal_batches_seen)\n",
      "\u001b[1;31mValueError\u001b[0m: Asked to retrieve element 0, but the Sequence has length 0"
     ]
    }
   ],
   "source": [
    "# Step 6: Train the model\n",
    "history = model.fit(\n",
    "    train_generator,\n",
    "    epochs=10,  # Adjust the number of epochs as needed\n",
    ")"
   ]
  },
  {
   "cell_type": "code",
   "execution_count": null,
   "id": "399ef28b",
   "metadata": {},
   "outputs": [],
   "source": [
    "# Step 7: Save the model\n",
    "model.save('hemorrhage_detection_model.h5')"
   ]
  }
 ],
 "metadata": {
  "kernelspec": {
   "display_name": "Python 3 (ipykernel)",
   "language": "python",
   "name": "python3"
  },
  "language_info": {
   "codemirror_mode": {
    "name": "ipython",
    "version": 3
   },
   "file_extension": ".py",
   "mimetype": "text/x-python",
   "name": "python",
   "nbconvert_exporter": "python",
   "pygments_lexer": "ipython3",
   "version": "3.10.8"
  }
 },
 "nbformat": 4,
 "nbformat_minor": 5
}
